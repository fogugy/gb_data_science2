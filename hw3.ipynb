{
 "cells": [
  {
   "cell_type": "markdown",
   "metadata": {},
   "source": [
    "#### Задание 1:\n",
    "\n",
    "Для чего и в каких случаях полезны различные варианты усреднения для метрик качества классификации: micro, macro, weighted?\n",
    "\n",
    "**Микро** рассчитывается для всех классов разом: \n",
    "\n",
    "precision = SUM(TP)/(SUM(TP)+SUM(FP))\n",
    "\n",
    "recall = SUM(TP)/(SUM(TP)+SUM(FN))\n",
    "\n",
    "Более чувствительна к ошибке по одному из классов. Подходит для несбалансированных датасетов.\n",
    "\n",
    "\n",
    "**Макро** среднее от рассчитанных метрик по каждому классу:\n",
    "\n",
    "precision = MEAN(P1..Pn)\n",
    "\n",
    "recall = MEAN(R1..Rn)\n",
    "\n",
    "Менее чувствительна к ошибке по одному из классов. Не подходит для несбалансированных датасетов.\n",
    "\n",
    "\n",
    "**Взвешенное** подобно макро, взвешенное относительно кол-ву записей в датасете.\n",
    "\n",
    "precision = MEAN(P1*class_1_w..Pn*class_n_w)\n",
    "\n",
    "recall = MEAN(R1*class_1_w..Rn*class_n_w)\n",
    "\n",
    "Менее чувствительна к ошибке по одному из классов. Подходит для несбалансированных датасетов."
   ]
  },
  {
   "cell_type": "code",
   "execution_count": null,
   "metadata": {},
   "outputs": [],
   "source": []
  }
 ],
 "metadata": {
  "kernelspec": {
   "display_name": "Python 3",
   "language": "python",
   "name": "python3"
  },
  "language_info": {
   "codemirror_mode": {
    "name": "ipython",
    "version": 3
   },
   "file_extension": ".py",
   "mimetype": "text/x-python",
   "name": "python",
   "nbconvert_exporter": "python",
   "pygments_lexer": "ipython3",
   "version": "3.6.8"
  }
 },
 "nbformat": 4,
 "nbformat_minor": 2
}
