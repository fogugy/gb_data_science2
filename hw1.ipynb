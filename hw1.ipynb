{
 "cells": [
  {
   "cell_type": "markdown",
   "metadata": {},
   "source": [
    "#### Задание 1. \n",
    "\n",
    "Привести по 2 примера, когда лучше максимизировать Precision, а когда Recall?"
   ]
  },
  {
   "cell_type": "markdown",
   "metadata": {},
   "source": [
    "precision:\n",
    "\t- предсказание направления цены валюты/ценной бумаги на след промежуток времени\n",
    "\t- предсказание возможности жизни на экзопланете (если уже выбираем - куда лететь)\n",
    "\t\n",
    "recall:\n",
    "\t- предсказание возможности жизни на экзопланете (если надо прикинуть перспективы экспансии)\n",
    "\t- операция \"пьяный водитель\""
   ]
  }
 ],
 "metadata": {
  "kernelspec": {
   "display_name": "Python 3",
   "language": "python",
   "name": "python3"
  },
  "language_info": {
   "codemirror_mode": {
    "name": "ipython",
    "version": 3
   },
   "file_extension": ".py",
   "mimetype": "text/x-python",
   "name": "python",
   "nbconvert_exporter": "python",
   "pygments_lexer": "ipython3",
   "version": "3.6.8"
  }
 },
 "nbformat": 4,
 "nbformat_minor": 2
}
